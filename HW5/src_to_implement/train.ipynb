{
 "cells": [
  {
   "cell_type": "code",
   "execution_count": 4,
   "metadata": {},
   "outputs": [],
   "source": [
    "import torch as t\n",
    "from data import ChallengeDataset\n",
    "from trainer import Trainer\n",
    "from matplotlib import pyplot as plt\n",
    "import numpy as np\n",
    "import model\n",
    "import pandas as pd\n",
    "from sklearn.model_selection import train_test_split\n",
    "\n",
    "\n",
    "# load the data from the csv file and perform a train-test-split\n",
    "# this can be accomplished using the already imported pandas and sklearn.model_selection modules\n",
    "# TODO\n",
    "csv_path = 'data.csv'\n",
    "tab = pd.read_csv(csv_path, sep=';')\n",
    "rand = np.random.randint(1, 1000)\n",
    "train_tab, test_tab = train_test_split(tab, test_size=0.99, random_state=rand)\n",
    "\n",
    "# set up data loading for the training and validation set each using t.utils.data.DataLoader and ChallengeDataset objects\n",
    "# TODO\n",
    "train_dl = t.utils.data.DataLoader(ChallengeDataset(train_tab, 'train'), batch_size=10)\n",
    "val_dl = t.utils.data.DataLoader(ChallengeDataset(test_tab, 'val'), batch_size=10)"
   ]
  },
  {
   "cell_type": "code",
   "execution_count": 5,
   "metadata": {},
   "outputs": [],
   "source": [
    "# set up a suitable loss criterion (you can find a pre-implemented loss functions in t.nn)\n",
    "# set up the optimizer (see t.optim)\n",
    "# create an object of type Trainer and set its early stopping criterion\n",
    "# TODO\n",
    "model = model.ResNet()\n",
    "crit = t.nn.BCELoss()\n",
    "optimizer = t.optim.Adam(model.parameters(), lr=0.001)\n",
    "trainer = Trainer(model, crit, optimizer, train_dl, val_dl, cuda=True)"
   ]
  },
  {
   "cell_type": "code",
   "execution_count": 20,
   "metadata": {},
   "outputs": [
    {
     "data": {
      "text/plain": [
       "(tensor(83.3333),\n",
       " tensor([[1., 0., 0.],\n",
       "         [0., 0., 0.]]),\n",
       " tensor([[1., 1., 1.],\n",
       "         [1., 1., 1.]]))"
      ]
     },
     "execution_count": 20,
     "metadata": {},
     "output_type": "execute_result"
    }
   ],
   "source": [
    "# a, b = np.zeros((2, 3)), np.ones((2, 3))\n",
    "# a[0, 0] = 1\n",
    "# a = t.tensor(a, dtype=t.float32)\n",
    "# b = t.tensor(b, dtype=t.float32)\n",
    "# t.nn.BCELoss()(a, b), a, b"
   ]
  },
  {
   "cell_type": "code",
   "execution_count": 7,
   "metadata": {},
   "outputs": [],
   "source": [
    "trainer.restore_checkpoint(0, '../last/')"
   ]
  },
  {
   "cell_type": "code",
   "execution_count": 8,
   "metadata": {},
   "outputs": [
    {
     "name": "stdout",
     "output_type": "stream",
     "text": [
      "72.86%\n"
     ]
    }
   ],
   "source": [
    "score = float(100*trainer.val_test()[1])\n",
    "print(\"{:.2f}%\".format(score))"
   ]
  },
  {
   "cell_type": "code",
   "execution_count": 10,
   "metadata": {},
   "outputs": [],
   "source": [
    "trainer.save_onnx('last_model.onnx')"
   ]
  },
  {
   "cell_type": "code",
   "execution_count": 15,
   "metadata": {},
   "outputs": [],
   "source": [
    "# # go, go, go... call fit on trainer\n",
    "# res = trainer.fit(epochs=100)"
   ]
  },
  {
   "cell_type": "code",
   "execution_count": 16,
   "metadata": {},
   "outputs": [],
   "source": [
    "# plot the results\n",
    "# plt.plot(np.arange(len(res[0])), res[0], label='train loss')\n",
    "# plt.plot(np.arange(len(res[1])), res[1], label='val loss')\n",
    "# plt.yscale('log')\n",
    "# plt.legend()\n",
    "# plt.savefig('losses.png')"
   ]
  },
  {
   "cell_type": "code",
   "execution_count": null,
   "metadata": {},
   "outputs": [],
   "source": []
  },
  {
   "cell_type": "code",
   "execution_count": null,
   "metadata": {},
   "outputs": [],
   "source": []
  }
 ],
 "metadata": {
  "kernelspec": {
   "display_name": "Python 3.7.13 ('dl')",
   "language": "python",
   "name": "python3"
  },
  "language_info": {
   "codemirror_mode": {
    "name": "ipython",
    "version": 3
   },
   "file_extension": ".py",
   "mimetype": "text/x-python",
   "name": "python",
   "nbconvert_exporter": "python",
   "pygments_lexer": "ipython3",
   "version": "3.7.0"
  },
  "orig_nbformat": 4,
  "vscode": {
   "interpreter": {
    "hash": "5c9ba7928a72a7fc29d0355d917545fe0a805cf3ee488067a4ef2d8b94e26510"
   }
  }
 },
 "nbformat": 4,
 "nbformat_minor": 2
}
